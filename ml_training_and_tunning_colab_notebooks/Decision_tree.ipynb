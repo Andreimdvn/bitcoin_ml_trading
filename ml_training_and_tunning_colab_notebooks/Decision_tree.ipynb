{
 "cells": [
  {
   "cell_type": "code",
   "execution_count": 1,
   "metadata": {
    "colab": {
     "base_uri": "https://localhost:8080/"
    },
    "executionInfo": {
     "elapsed": 13368,
     "status": "ok",
     "timestamp": 1622911239602,
     "user": {
      "displayName": "Andrei Moldovan",
      "photoUrl": "https://lh3.googleusercontent.com/a-/AOh14GjND1a0im4IeEuS3SopzHZ1h-8SwgakusMPPMDolw=s64",
      "userId": "11141977249155520045"
     },
     "user_tz": -180
    },
    "id": "xPMmRnjM_5aq",
    "outputId": "6aa94212-b22e-4ac7-f77e-e38def24abbd"
   },
   "outputs": [
    {
     "name": "stdout",
     "output_type": "stream",
     "text": [
      "Running on CoLab\n",
      "Mounted at /drive\n"
     ]
    }
   ],
   "source": [
    "if 'google.colab' in str(get_ipython()):\n",
    "    print('Running on CoLab')\n",
    "    run_on_colab = True\n",
    "else:\n",
    "    print('Not running on CoLab')\n",
    "    run_on_colab = False\n",
    "if run_on_colab:\n",
    "    from google.colab import drive\n",
    "    drive.mount('/drive', force_remount=True)"
   ]
  },
  {
   "cell_type": "code",
   "execution_count": 2,
   "metadata": {
    "colab": {
     "base_uri": "https://localhost:8080/"
    },
    "executionInfo": {
     "elapsed": 3955,
     "status": "ok",
     "timestamp": 1622911243553,
     "user": {
      "displayName": "Andrei Moldovan",
      "photoUrl": "https://lh3.googleusercontent.com/a-/AOh14GjND1a0im4IeEuS3SopzHZ1h-8SwgakusMPPMDolw=s64",
      "userId": "11141977249155520045"
     },
     "user_tz": -180
    },
    "id": "ZBpRrd8C2Lyf",
    "outputId": "a30ab2b1-00c5-4088-ccfa-80c2b76de395"
   },
   "outputs": [
    {
     "name": "stdout",
     "output_type": "stream",
     "text": [
      "Collecting ipython-autotime\n",
      "  Downloading https://files.pythonhosted.org/packages/b4/c9/b413a24f759641bc27ef98c144b590023c8038dfb8a3f09e713e9dff12c1/ipython_autotime-0.3.1-py2.py3-none-any.whl\n",
      "Requirement already satisfied: ipython in /usr/local/lib/python3.7/dist-packages (from ipython-autotime) (5.5.0)\n",
      "Requirement already satisfied: setuptools>=18.5 in /usr/local/lib/python3.7/dist-packages (from ipython->ipython-autotime) (57.0.0)\n",
      "Requirement already satisfied: traitlets>=4.2 in /usr/local/lib/python3.7/dist-packages (from ipython->ipython-autotime) (5.0.5)\n",
      "Requirement already satisfied: pexpect; sys_platform != \"win32\" in /usr/local/lib/python3.7/dist-packages (from ipython->ipython-autotime) (4.8.0)\n",
      "Requirement already satisfied: pygments in /usr/local/lib/python3.7/dist-packages (from ipython->ipython-autotime) (2.6.1)\n",
      "Requirement already satisfied: simplegeneric>0.8 in /usr/local/lib/python3.7/dist-packages (from ipython->ipython-autotime) (0.8.1)\n",
      "Requirement already satisfied: decorator in /usr/local/lib/python3.7/dist-packages (from ipython->ipython-autotime) (4.4.2)\n",
      "Requirement already satisfied: pickleshare in /usr/local/lib/python3.7/dist-packages (from ipython->ipython-autotime) (0.7.5)\n",
      "Requirement already satisfied: prompt-toolkit<2.0.0,>=1.0.4 in /usr/local/lib/python3.7/dist-packages (from ipython->ipython-autotime) (1.0.18)\n",
      "Requirement already satisfied: ipython-genutils in /usr/local/lib/python3.7/dist-packages (from traitlets>=4.2->ipython->ipython-autotime) (0.2.0)\n",
      "Requirement already satisfied: ptyprocess>=0.5 in /usr/local/lib/python3.7/dist-packages (from pexpect; sys_platform != \"win32\"->ipython->ipython-autotime) (0.7.0)\n",
      "Requirement already satisfied: six>=1.9.0 in /usr/local/lib/python3.7/dist-packages (from prompt-toolkit<2.0.0,>=1.0.4->ipython->ipython-autotime) (1.15.0)\n",
      "Requirement already satisfied: wcwidth in /usr/local/lib/python3.7/dist-packages (from prompt-toolkit<2.0.0,>=1.0.4->ipython->ipython-autotime) (0.2.5)\n",
      "Installing collected packages: ipython-autotime\n",
      "Successfully installed ipython-autotime-0.3.1\n",
      "time: 213 µs (started: 2021-06-05 16:40:43 +00:00)\n"
     ]
    }
   ],
   "source": [
    "!pip install ipython-autotime\n",
    "%load_ext autotime"
   ]
  },
  {
   "cell_type": "code",
   "execution_count": 3,
   "metadata": {
    "colab": {
     "base_uri": "https://localhost:8080/"
    },
    "executionInfo": {
     "elapsed": 1000,
     "status": "ok",
     "timestamp": 1622911244549,
     "user": {
      "displayName": "Andrei Moldovan",
      "photoUrl": "https://lh3.googleusercontent.com/a-/AOh14GjND1a0im4IeEuS3SopzHZ1h-8SwgakusMPPMDolw=s64",
      "userId": "11141977249155520045"
     },
     "user_tz": -180
    },
    "id": "JN-lIzQo_hcD",
    "outputId": "0fce0a16-5738-4598-f0f6-f71e29a5f5b7"
   },
   "outputs": [
    {
     "name": "stdout",
     "output_type": "stream",
     "text": [
      "time: 980 ms (started: 2021-06-05 16:40:43 +00:00)\n"
     ]
    },
    {
     "name": "stderr",
     "output_type": "stream",
     "text": [
      "/usr/local/lib/python3.7/dist-packages/sklearn/externals/joblib/__init__.py:15: FutureWarning: sklearn.externals.joblib is deprecated in 0.21 and will be removed in 0.23. Please import this functionality directly from joblib, which can be installed with: pip install joblib. If this warning is raised when loading pickled models, you may need to re-serialize those models with scikit-learn 0.21+.\n",
      "  warnings.warn(msg, category=FutureWarning)\n"
     ]
    }
   ],
   "source": [
    "import pickle\n",
    "import numpy as np\n",
    "import pandas as pd\n",
    "from sklearn.preprocessing import MinMaxScaler\n",
    "from sklearn import metrics\n",
    "from sklearn.tree import DecisionTreeClassifier\n",
    "from sklearn.externals import joblib\n",
    "import matplotlib.pyplot as plt"
   ]
  },
  {
   "cell_type": "code",
   "execution_count": 9,
   "metadata": {
    "colab": {
     "base_uri": "https://localhost:8080/"
    },
    "executionInfo": {
     "elapsed": 214,
     "status": "ok",
     "timestamp": 1622911314304,
     "user": {
      "displayName": "Andrei Moldovan",
      "photoUrl": "https://lh3.googleusercontent.com/a-/AOh14GjND1a0im4IeEuS3SopzHZ1h-8SwgakusMPPMDolw=s64",
      "userId": "11141977249155520045"
     },
     "user_tz": -180
    },
    "id": "o2v1oFa9CUKE",
    "outputId": "e4f91eb5-6e98-467b-9717-b466f5708894"
   },
   "outputs": [
    {
     "name": "stdout",
     "output_type": "stream",
     "text": [
      "time: 1.68 ms (started: 2021-06-05 16:41:54 +00:00)\n"
     ]
    }
   ],
   "source": [
    "window_length = 5\n",
    "threshold=0.15\n",
    "rocs=1\n",
    "clf = None\n",
    "scaler = None"
   ]
  },
  {
   "cell_type": "code",
   "execution_count": 29,
   "metadata": {
    "colab": {
     "base_uri": "https://localhost:8080/",
     "height": 827
    },
    "executionInfo": {
     "elapsed": 9623,
     "status": "ok",
     "timestamp": 1622914004730,
     "user": {
      "displayName": "Andrei Moldovan",
      "photoUrl": "https://lh3.googleusercontent.com/a-/AOh14GjND1a0im4IeEuS3SopzHZ1h-8SwgakusMPPMDolw=s64",
      "userId": "11141977249155520045"
     },
     "user_tz": -180
    },
    "id": "qHdtQZjo_zaP",
    "outputId": "46110f65-b6a5-4946-c661-62c581c3b74f"
   },
   "outputs": [
    {
     "data": {
      "text/html": [
       "<div>\n",
       "<style scoped>\n",
       "    .dataframe tbody tr th:only-of-type {\n",
       "        vertical-align: middle;\n",
       "    }\n",
       "\n",
       "    .dataframe tbody tr th {\n",
       "        vertical-align: top;\n",
       "    }\n",
       "\n",
       "    .dataframe thead th {\n",
       "        text-align: right;\n",
       "    }\n",
       "</style>\n",
       "<table border=\"1\" class=\"dataframe\">\n",
       "  <thead>\n",
       "    <tr style=\"text-align: right;\">\n",
       "      <th></th>\n",
       "      <th>sma5_diff</th>\n",
       "      <th>sma8_diff</th>\n",
       "      <th>sma13_diff</th>\n",
       "      <th>sma21_diff</th>\n",
       "      <th>ema5_diff</th>\n",
       "      <th>ema8_diff</th>\n",
       "      <th>ema13_diff</th>\n",
       "      <th>ema21_diff</th>\n",
       "      <th>MACD_12_26_9</th>\n",
       "      <th>MACDh_12_26_9</th>\n",
       "      <th>MACDs_12_26_9</th>\n",
       "      <th>RSI_14</th>\n",
       "      <th>ROC_1</th>\n",
       "      <th>STOCHk_14_3_3</th>\n",
       "      <th>STOCHd_14_3_3</th>\n",
       "      <th>CCI_14_0.015</th>\n",
       "      <th>ATRr_14</th>\n",
       "      <th>WILLR_14</th>\n",
       "      <th>AROOND_14</th>\n",
       "      <th>AROONU_14</th>\n",
       "      <th>AROONOSC_14</th>\n",
       "      <th>dema10_diff</th>\n",
       "      <th>BBB_5_2.0</th>\n",
       "      <th>BBU_5_2.0_diff</th>\n",
       "      <th>BBL_5_2.0_diff</th>\n",
       "      <th>BBM_5_2.0_diff</th>\n",
       "      <th>RVI_14</th>\n",
       "      <th>output_class</th>\n",
       "    </tr>\n",
       "    <tr>\n",
       "      <th>open_time</th>\n",
       "      <th></th>\n",
       "      <th></th>\n",
       "      <th></th>\n",
       "      <th></th>\n",
       "      <th></th>\n",
       "      <th></th>\n",
       "      <th></th>\n",
       "      <th></th>\n",
       "      <th></th>\n",
       "      <th></th>\n",
       "      <th></th>\n",
       "      <th></th>\n",
       "      <th></th>\n",
       "      <th></th>\n",
       "      <th></th>\n",
       "      <th></th>\n",
       "      <th></th>\n",
       "      <th></th>\n",
       "      <th></th>\n",
       "      <th></th>\n",
       "      <th></th>\n",
       "      <th></th>\n",
       "      <th></th>\n",
       "      <th></th>\n",
       "      <th></th>\n",
       "      <th></th>\n",
       "      <th></th>\n",
       "      <th></th>\n",
       "    </tr>\n",
       "  </thead>\n",
       "  <tbody>\n",
       "    <tr>\n",
       "      <th>2017-08-17 04:33:00</th>\n",
       "      <td>-0.000882</td>\n",
       "      <td>-0.000402</td>\n",
       "      <td>-0.000094</td>\n",
       "      <td>0.000409</td>\n",
       "      <td>-0.000701</td>\n",
       "      <td>-0.000509</td>\n",
       "      <td>-0.000204</td>\n",
       "      <td>0.000135</td>\n",
       "      <td>2.517063</td>\n",
       "      <td>0.710935</td>\n",
       "      <td>1.806128</td>\n",
       "      <td>52.037221</td>\n",
       "      <td>-0.156269</td>\n",
       "      <td>57.813583</td>\n",
       "      <td>64.134419</td>\n",
       "      <td>-1.973131</td>\n",
       "      <td>3.477987</td>\n",
       "      <td>-65.332640</td>\n",
       "      <td>64.285714</td>\n",
       "      <td>78.571429</td>\n",
       "      <td>14.285714</td>\n",
       "      <td>-0.000948</td>\n",
       "      <td>0.670908</td>\n",
       "      <td>-0.004240</td>\n",
       "      <td>0.002475</td>\n",
       "      <td>-0.000882</td>\n",
       "      <td>26.024920</td>\n",
       "      <td>0.0</td>\n",
       "    </tr>\n",
       "    <tr>\n",
       "      <th>2017-08-17 04:34:00</th>\n",
       "      <td>0.004152</td>\n",
       "      <td>0.005384</td>\n",
       "      <td>0.006029</td>\n",
       "      <td>0.006682</td>\n",
       "      <td>0.003980</td>\n",
       "      <td>0.004791</td>\n",
       "      <td>0.005539</td>\n",
       "      <td>0.006182</td>\n",
       "      <td>4.527372</td>\n",
       "      <td>2.176995</td>\n",
       "      <td>2.350377</td>\n",
       "      <td>73.578620</td>\n",
       "      <td>0.671042</td>\n",
       "      <td>68.018018</td>\n",
       "      <td>68.150843</td>\n",
       "      <td>285.454223</td>\n",
       "      <td>5.420447</td>\n",
       "      <td>0.000000</td>\n",
       "      <td>57.142857</td>\n",
       "      <td>100.000000</td>\n",
       "      <td>42.857143</td>\n",
       "      <td>0.003748</td>\n",
       "      <td>1.013689</td>\n",
       "      <td>-0.000896</td>\n",
       "      <td>0.009199</td>\n",
       "      <td>0.004152</td>\n",
       "      <td>58.444576</td>\n",
       "      <td>1.0</td>\n",
       "    </tr>\n",
       "    <tr>\n",
       "      <th>2017-08-17 04:35:00</th>\n",
       "      <td>0.004072</td>\n",
       "      <td>0.005260</td>\n",
       "      <td>0.006286</td>\n",
       "      <td>0.007118</td>\n",
       "      <td>0.003232</td>\n",
       "      <td>0.004401</td>\n",
       "      <td>0.005491</td>\n",
       "      <td>0.006408</td>\n",
       "      <td>6.349951</td>\n",
       "      <td>3.199659</td>\n",
       "      <td>3.150292</td>\n",
       "      <td>75.152240</td>\n",
       "      <td>0.087278</td>\n",
       "      <td>78.222453</td>\n",
       "      <td>68.018018</td>\n",
       "      <td>212.079230</td>\n",
       "      <td>5.292232</td>\n",
       "      <td>0.000000</td>\n",
       "      <td>50.000000</td>\n",
       "      <td>100.000000</td>\n",
       "      <td>50.000000</td>\n",
       "      <td>0.002882</td>\n",
       "      <td>1.362926</td>\n",
       "      <td>-0.002715</td>\n",
       "      <td>0.010859</td>\n",
       "      <td>0.004072</td>\n",
       "      <td>75.155465</td>\n",
       "      <td>1.0</td>\n",
       "    </tr>\n",
       "    <tr>\n",
       "      <th>2017-08-17 04:36:00</th>\n",
       "      <td>0.002876</td>\n",
       "      <td>0.004269</td>\n",
       "      <td>0.005676</td>\n",
       "      <td>0.006687</td>\n",
       "      <td>0.002155</td>\n",
       "      <td>0.003423</td>\n",
       "      <td>0.004707</td>\n",
       "      <td>0.005825</td>\n",
       "      <td>7.705534</td>\n",
       "      <td>3.644193</td>\n",
       "      <td>4.061340</td>\n",
       "      <td>75.152240</td>\n",
       "      <td>0.000000</td>\n",
       "      <td>100.000000</td>\n",
       "      <td>82.080157</td>\n",
       "      <td>156.805529</td>\n",
       "      <td>4.888177</td>\n",
       "      <td>0.000000</td>\n",
       "      <td>42.857143</td>\n",
       "      <td>100.000000</td>\n",
       "      <td>57.142857</td>\n",
       "      <td>0.001626</td>\n",
       "      <td>1.444458</td>\n",
       "      <td>-0.004325</td>\n",
       "      <td>0.010078</td>\n",
       "      <td>0.002876</td>\n",
       "      <td>75.155465</td>\n",
       "      <td>1.0</td>\n",
       "    </tr>\n",
       "    <tr>\n",
       "      <th>2017-08-17 04:37:00</th>\n",
       "      <td>0.001681</td>\n",
       "      <td>0.003138</td>\n",
       "      <td>0.005066</td>\n",
       "      <td>0.006256</td>\n",
       "      <td>0.001437</td>\n",
       "      <td>0.002663</td>\n",
       "      <td>0.004034</td>\n",
       "      <td>0.005296</td>\n",
       "      <td>8.679787</td>\n",
       "      <td>3.694758</td>\n",
       "      <td>4.985030</td>\n",
       "      <td>75.152240</td>\n",
       "      <td>0.000000</td>\n",
       "      <td>100.000000</td>\n",
       "      <td>92.740818</td>\n",
       "      <td>120.704989</td>\n",
       "      <td>4.516799</td>\n",
       "      <td>0.000000</td>\n",
       "      <td>35.714286</td>\n",
       "      <td>100.000000</td>\n",
       "      <td>64.285714</td>\n",
       "      <td>0.000732</td>\n",
       "      <td>1.319255</td>\n",
       "      <td>-0.004904</td>\n",
       "      <td>0.008266</td>\n",
       "      <td>0.001681</td>\n",
       "      <td>75.155465</td>\n",
       "      <td>1.0</td>\n",
       "    </tr>\n",
       "    <tr>\n",
       "      <th>...</th>\n",
       "      <td>...</td>\n",
       "      <td>...</td>\n",
       "      <td>...</td>\n",
       "      <td>...</td>\n",
       "      <td>...</td>\n",
       "      <td>...</td>\n",
       "      <td>...</td>\n",
       "      <td>...</td>\n",
       "      <td>...</td>\n",
       "      <td>...</td>\n",
       "      <td>...</td>\n",
       "      <td>...</td>\n",
       "      <td>...</td>\n",
       "      <td>...</td>\n",
       "      <td>...</td>\n",
       "      <td>...</td>\n",
       "      <td>...</td>\n",
       "      <td>...</td>\n",
       "      <td>...</td>\n",
       "      <td>...</td>\n",
       "      <td>...</td>\n",
       "      <td>...</td>\n",
       "      <td>...</td>\n",
       "      <td>...</td>\n",
       "      <td>...</td>\n",
       "      <td>...</td>\n",
       "      <td>...</td>\n",
       "      <td>...</td>\n",
       "    </tr>\n",
       "    <tr>\n",
       "      <th>2018-07-29 15:07:00</th>\n",
       "      <td>0.000561</td>\n",
       "      <td>0.000571</td>\n",
       "      <td>0.000239</td>\n",
       "      <td>0.000047</td>\n",
       "      <td>0.000337</td>\n",
       "      <td>0.000346</td>\n",
       "      <td>0.000218</td>\n",
       "      <td>-0.000055</td>\n",
       "      <td>-3.690980</td>\n",
       "      <td>0.308423</td>\n",
       "      <td>-3.999402</td>\n",
       "      <td>47.534596</td>\n",
       "      <td>0.014855</td>\n",
       "      <td>50.769231</td>\n",
       "      <td>35.601140</td>\n",
       "      <td>21.098279</td>\n",
       "      <td>6.758089</td>\n",
       "      <td>-40.205128</td>\n",
       "      <td>64.285714</td>\n",
       "      <td>7.142857</td>\n",
       "      <td>-57.142857</td>\n",
       "      <td>0.000531</td>\n",
       "      <td>0.207261</td>\n",
       "      <td>-0.000475</td>\n",
       "      <td>0.001596</td>\n",
       "      <td>0.000561</td>\n",
       "      <td>56.326805</td>\n",
       "      <td>1.0</td>\n",
       "    </tr>\n",
       "    <tr>\n",
       "      <th>2018-07-29 15:08:00</th>\n",
       "      <td>0.000527</td>\n",
       "      <td>0.000675</td>\n",
       "      <td>0.000470</td>\n",
       "      <td>0.000239</td>\n",
       "      <td>0.000352</td>\n",
       "      <td>0.000418</td>\n",
       "      <td>0.000351</td>\n",
       "      <td>0.000124</td>\n",
       "      <td>-3.128508</td>\n",
       "      <td>0.696716</td>\n",
       "      <td>-3.825224</td>\n",
       "      <td>49.653041</td>\n",
       "      <td>0.019113</td>\n",
       "      <td>60.592056</td>\n",
       "      <td>48.294218</td>\n",
       "      <td>59.137727</td>\n",
       "      <td>6.430368</td>\n",
       "      <td>-31.557165</td>\n",
       "      <td>57.142857</td>\n",
       "      <td>0.000000</td>\n",
       "      <td>-57.142857</td>\n",
       "      <td>0.000517</td>\n",
       "      <td>0.223438</td>\n",
       "      <td>-0.000590</td>\n",
       "      <td>0.001644</td>\n",
       "      <td>0.000527</td>\n",
       "      <td>61.932170</td>\n",
       "      <td>1.0</td>\n",
       "    </tr>\n",
       "    <tr>\n",
       "      <th>2018-07-29 15:09:00</th>\n",
       "      <td>0.000366</td>\n",
       "      <td>0.000728</td>\n",
       "      <td>0.000598</td>\n",
       "      <td>0.000375</td>\n",
       "      <td>0.000337</td>\n",
       "      <td>0.000444</td>\n",
       "      <td>0.000432</td>\n",
       "      <td>0.000252</td>\n",
       "      <td>-2.551659</td>\n",
       "      <td>1.018851</td>\n",
       "      <td>-3.570511</td>\n",
       "      <td>51.350797</td>\n",
       "      <td>0.015336</td>\n",
       "      <td>67.862907</td>\n",
       "      <td>59.741398</td>\n",
       "      <td>65.158862</td>\n",
       "      <td>6.421771</td>\n",
       "      <td>-24.648986</td>\n",
       "      <td>50.000000</td>\n",
       "      <td>0.000000</td>\n",
       "      <td>-50.000000</td>\n",
       "      <td>0.000465</td>\n",
       "      <td>0.129509</td>\n",
       "      <td>-0.000281</td>\n",
       "      <td>0.001013</td>\n",
       "      <td>0.000366</td>\n",
       "      <td>66.525812</td>\n",
       "      <td>1.0</td>\n",
       "    </tr>\n",
       "    <tr>\n",
       "      <th>2018-07-29 15:10:00</th>\n",
       "      <td>0.000199</td>\n",
       "      <td>0.000586</td>\n",
       "      <td>0.000601</td>\n",
       "      <td>0.000363</td>\n",
       "      <td>0.000225</td>\n",
       "      <td>0.000347</td>\n",
       "      <td>0.000371</td>\n",
       "      <td>0.000230</td>\n",
       "      <td>-2.069836</td>\n",
       "      <td>1.200540</td>\n",
       "      <td>-3.270376</td>\n",
       "      <td>51.364814</td>\n",
       "      <td>0.000122</td>\n",
       "      <td>75.566122</td>\n",
       "      <td>68.007028</td>\n",
       "      <td>109.735122</td>\n",
       "      <td>6.333073</td>\n",
       "      <td>-17.095483</td>\n",
       "      <td>42.857143</td>\n",
       "      <td>0.000000</td>\n",
       "      <td>-42.857143</td>\n",
       "      <td>0.000313</td>\n",
       "      <td>0.087029</td>\n",
       "      <td>-0.000236</td>\n",
       "      <td>0.000634</td>\n",
       "      <td>0.000199</td>\n",
       "      <td>70.757193</td>\n",
       "      <td>1.0</td>\n",
       "    </tr>\n",
       "    <tr>\n",
       "      <th>2018-07-29 15:11:00</th>\n",
       "      <td>0.000391</td>\n",
       "      <td>0.000744</td>\n",
       "      <td>0.000921</td>\n",
       "      <td>0.000697</td>\n",
       "      <td>0.000393</td>\n",
       "      <td>0.000552</td>\n",
       "      <td>0.000630</td>\n",
       "      <td>0.000540</td>\n",
       "      <td>-1.430233</td>\n",
       "      <td>1.472114</td>\n",
       "      <td>-2.902347</td>\n",
       "      <td>55.494010</td>\n",
       "      <td>0.036388</td>\n",
       "      <td>86.085177</td>\n",
       "      <td>76.504735</td>\n",
       "      <td>102.558817</td>\n",
       "      <td>6.517139</td>\n",
       "      <td>0.000000</td>\n",
       "      <td>35.714286</td>\n",
       "      <td>100.000000</td>\n",
       "      <td>64.285714</td>\n",
       "      <td>0.000443</td>\n",
       "      <td>0.104305</td>\n",
       "      <td>-0.000130</td>\n",
       "      <td>0.000913</td>\n",
       "      <td>0.000391</td>\n",
       "      <td>74.700387</td>\n",
       "      <td>1.0</td>\n",
       "    </tr>\n",
       "  </tbody>\n",
       "</table>\n",
       "<p>498879 rows × 28 columns</p>\n",
       "</div>"
      ],
      "text/plain": [
       "                     sma5_diff  sma8_diff  ...     RVI_14  output_class\n",
       "open_time                                  ...                         \n",
       "2017-08-17 04:33:00  -0.000882  -0.000402  ...  26.024920           0.0\n",
       "2017-08-17 04:34:00   0.004152   0.005384  ...  58.444576           1.0\n",
       "2017-08-17 04:35:00   0.004072   0.005260  ...  75.155465           1.0\n",
       "2017-08-17 04:36:00   0.002876   0.004269  ...  75.155465           1.0\n",
       "2017-08-17 04:37:00   0.001681   0.003138  ...  75.155465           1.0\n",
       "...                        ...        ...  ...        ...           ...\n",
       "2018-07-29 15:07:00   0.000561   0.000571  ...  56.326805           1.0\n",
       "2018-07-29 15:08:00   0.000527   0.000675  ...  61.932170           1.0\n",
       "2018-07-29 15:09:00   0.000366   0.000728  ...  66.525812           1.0\n",
       "2018-07-29 15:10:00   0.000199   0.000586  ...  70.757193           1.0\n",
       "2018-07-29 15:11:00   0.000391   0.000744  ...  74.700387           1.0\n",
       "\n",
       "[498879 rows x 28 columns]"
      ]
     },
     "execution_count": 29,
     "metadata": {
      "tags": []
     },
     "output_type": "execute_result"
    },
    {
     "name": "stdout",
     "output_type": "stream",
     "text": [
      "time: 8.9 s (started: 2021-06-05 17:26:35 +00:00)\n"
     ]
    }
   ],
   "source": [
    "train_df = pd.read_csv(\"/drive/My Drive/disertation/train_df_{}_rocs_{}.csv\".format(threshold,rocs))\n",
    "train_df = train_df.set_index(\"open_time\")\n",
    "train_df.drop(columns=[\"close\"],inplace=True)\n",
    "train_df"
   ]
  },
  {
   "cell_type": "code",
   "execution_count": 30,
   "metadata": {
    "colab": {
     "base_uri": "https://localhost:8080/"
    },
    "executionInfo": {
     "elapsed": 222,
     "status": "ok",
     "timestamp": 1622914013296,
     "user": {
      "displayName": "Andrei Moldovan",
      "photoUrl": "https://lh3.googleusercontent.com/a-/AOh14GjND1a0im4IeEuS3SopzHZ1h-8SwgakusMPPMDolw=s64",
      "userId": "11141977249155520045"
     },
     "user_tz": -180
    },
    "id": "6H0hqGc9X3Rw",
    "outputId": "dad76789-3f4a-49ea-e5d7-06f832cc74e2"
   },
   "outputs": [
    {
     "name": "stdout",
     "output_type": "stream",
     "text": [
      "time: 136 ms (started: 2021-06-05 17:26:53 +00:00)\n"
     ]
    }
   ],
   "source": [
    "train_df.index = pd.to_datetime(train_df.index)"
   ]
  },
  {
   "cell_type": "code",
   "execution_count": 31,
   "metadata": {
    "colab": {
     "base_uri": "https://localhost:8080/"
    },
    "executionInfo": {
     "elapsed": 225,
     "status": "ok",
     "timestamp": 1622914014497,
     "user": {
      "displayName": "Andrei Moldovan",
      "photoUrl": "https://lh3.googleusercontent.com/a-/AOh14GjND1a0im4IeEuS3SopzHZ1h-8SwgakusMPPMDolw=s64",
      "userId": "11141977249155520045"
     },
     "user_tz": -180
    },
    "id": "juFHAD5a7YhJ",
    "outputId": "c5397100-7b3d-4c4e-e50e-8e2b37e15cc9"
   },
   "outputs": [
    {
     "data": {
      "text/plain": [
       "135"
      ]
     },
     "execution_count": 31,
     "metadata": {
      "tags": []
     },
     "output_type": "execute_result"
    },
    {
     "name": "stdout",
     "output_type": "stream",
     "text": [
      "time: 9.32 ms (started: 2021-06-05 17:26:54 +00:00)\n"
     ]
    }
   ],
   "source": [
    "columns = []\n",
    "for window_idx in range(window_length):\n",
    "    for column in train_df.columns:\n",
    "        if column == \"output_class\":\n",
    "            continue\n",
    "        columns.append(\"{}___{}\".format(column, window_idx))\n",
    "len(columns)"
   ]
  },
  {
   "cell_type": "code",
   "execution_count": 32,
   "metadata": {
    "colab": {
     "base_uri": "https://localhost:8080/"
    },
    "executionInfo": {
     "elapsed": 207,
     "status": "ok",
     "timestamp": 1622914015320,
     "user": {
      "displayName": "Andrei Moldovan",
      "photoUrl": "https://lh3.googleusercontent.com/a-/AOh14GjND1a0im4IeEuS3SopzHZ1h-8SwgakusMPPMDolw=s64",
      "userId": "11141977249155520045"
     },
     "user_tz": -180
    },
    "id": "RM7bxgWCCMpe",
    "outputId": "b8fcdb65-b378-44ab-d253-44298e4cb14a"
   },
   "outputs": [
    {
     "data": {
      "text/plain": [
       "((498879, 27), (498879,))"
      ]
     },
     "execution_count": 32,
     "metadata": {
      "tags": []
     },
     "output_type": "execute_result"
    },
    {
     "name": "stdout",
     "output_type": "stream",
     "text": [
      "time: 6.88 ms (started: 2021-06-05 17:26:55 +00:00)\n"
     ]
    }
   ],
   "source": [
    "data = train_df.to_numpy()\n",
    "X = data[:,:-1]\n",
    "Y = data[:,-1]\n",
    "\n",
    "X.shape, Y.shape"
   ]
  },
  {
   "cell_type": "code",
   "execution_count": 33,
   "metadata": {
    "colab": {
     "base_uri": "https://localhost:8080/"
    },
    "executionInfo": {
     "elapsed": 3,
     "status": "ok",
     "timestamp": 1622914016250,
     "user": {
      "displayName": "Andrei Moldovan",
      "photoUrl": "https://lh3.googleusercontent.com/a-/AOh14GjND1a0im4IeEuS3SopzHZ1h-8SwgakusMPPMDolw=s64",
      "userId": "11141977249155520045"
     },
     "user_tz": -180
    },
    "id": "F5Sk0CYMMXcc",
    "outputId": "ad210c2d-fb14-49ff-e12a-69f656d30cd4"
   },
   "outputs": [
    {
     "name": "stdout",
     "output_type": "stream",
     "text": [
      "time: 6.47 ms (started: 2021-06-05 17:26:56 +00:00)\n"
     ]
    }
   ],
   "source": [
    "def extend_dataset_with_window_length(X, Y, window_length=window_length):\n",
    "    new_x = []\n",
    "    for i in range(len(X) - window_length+1):\n",
    "        lst = []\n",
    "        for j in range(i, i+window_length):\n",
    "            lst.extend(X[j])\n",
    "        new_x.append(lst)\n",
    "    return np.array(new_x), Y[window_length-1:]"
   ]
  },
  {
   "cell_type": "code",
   "execution_count": 34,
   "metadata": {
    "colab": {
     "base_uri": "https://localhost:8080/"
    },
    "executionInfo": {
     "elapsed": 38664,
     "status": "ok",
     "timestamp": 1622914059289,
     "user": {
      "displayName": "Andrei Moldovan",
      "photoUrl": "https://lh3.googleusercontent.com/a-/AOh14GjND1a0im4IeEuS3SopzHZ1h-8SwgakusMPPMDolw=s64",
      "userId": "11141977249155520045"
     },
     "user_tz": -180
    },
    "id": "wdFQzX6vNDYp",
    "outputId": "a6b90afb-42cb-4db8-f7a8-3f6d45647eea"
   },
   "outputs": [
    {
     "data": {
      "text/plain": [
       "((498875, 135), (498875,))"
      ]
     },
     "execution_count": 34,
     "metadata": {
      "tags": []
     },
     "output_type": "execute_result"
    },
    {
     "name": "stdout",
     "output_type": "stream",
     "text": [
      "time: 38.4 s (started: 2021-06-05 17:27:01 +00:00)\n"
     ]
    }
   ],
   "source": [
    "X, Y = extend_dataset_with_window_length(X,Y)\n",
    "X.shape, Y.shape"
   ]
  },
  {
   "cell_type": "code",
   "execution_count": 36,
   "metadata": {
    "colab": {
     "base_uri": "https://localhost:8080/"
    },
    "executionInfo": {
     "elapsed": 376,
     "status": "ok",
     "timestamp": 1622914066798,
     "user": {
      "displayName": "Andrei Moldovan",
      "photoUrl": "https://lh3.googleusercontent.com/a-/AOh14GjND1a0im4IeEuS3SopzHZ1h-8SwgakusMPPMDolw=s64",
      "userId": "11141977249155520045"
     },
     "user_tz": -180
    },
    "id": "bkqLXFCsDISI",
    "outputId": "f7807ffc-e370-4ac1-dfca-15ca20fe5aa7"
   },
   "outputs": [
    {
     "name": "stdout",
     "output_type": "stream",
     "text": [
      "time: 919 ms (started: 2021-06-05 17:27:46 +00:00)\n"
     ]
    }
   ],
   "source": [
    "scaler = MinMaxScaler()\n",
    "X = scaler.fit_transform(X)"
   ]
  },
  {
   "cell_type": "code",
   "execution_count": 78,
   "metadata": {
    "colab": {
     "base_uri": "https://localhost:8080/"
    },
    "executionInfo": {
     "elapsed": 2917,
     "status": "ok",
     "timestamp": 1622844899160,
     "user": {
      "displayName": "Andrei Moldovan",
      "photoUrl": "https://lh3.googleusercontent.com/a-/AOh14GjND1a0im4IeEuS3SopzHZ1h-8SwgakusMPPMDolw=s64",
      "userId": "11141977249155520045"
     },
     "user_tz": -180
    },
    "id": "ILzz0D4uFpGf",
    "outputId": "46b98eb6-6450-4610-b604-234b92e3fd91"
   },
   "outputs": [
    {
     "name": "stdout",
     "output_type": "stream",
     "text": [
      "time: 2.58 s (started: 2021-06-04 22:14:56 +00:00)\n"
     ]
    }
   ],
   "source": [
    "# from sklearn.preprocessing import StandardScaler\n",
    "# standard_scaler = StandardScaler()\n",
    "# X= standard_scaler.fit_transform(X)"
   ]
  },
  {
   "cell_type": "code",
   "execution_count": 13,
   "metadata": {
    "colab": {
     "base_uri": "https://localhost:8080/"
    },
    "executionInfo": {
     "elapsed": 17,
     "status": "ok",
     "timestamp": 1622835797270,
     "user": {
      "displayName": "Andrei Moldovan",
      "photoUrl": "https://lh3.googleusercontent.com/a-/AOh14GjND1a0im4IeEuS3SopzHZ1h-8SwgakusMPPMDolw=s64",
      "userId": "11141977249155520045"
     },
     "user_tz": -180
    },
    "id": "iXEAwyI3ZS8e",
    "outputId": "77b69e92-88a2-485b-a234-0abed004d00d"
   },
   "outputs": [
    {
     "name": "stdout",
     "output_type": "stream",
     "text": [
      "time: 3.73 ms (started: 2021-06-04 19:43:17 +00:00)\n"
     ]
    }
   ],
   "source": [
    "w# scaler_path = \"/drive/My Drive/disertation/scaler_model.save\"\n",
    "# if scaler:\n",
    "#     joblib.dump(scaler, scaler_path)\n",
    "# else:\n",
    "#     scaler = joblib.load(scaler_path)"
   ]
  },
  {
   "cell_type": "code",
   "execution_count": 37,
   "metadata": {
    "colab": {
     "base_uri": "https://localhost:8080/"
    },
    "executionInfo": {
     "elapsed": 11,
     "status": "ok",
     "timestamp": 1622914066799,
     "user": {
      "displayName": "Andrei Moldovan",
      "photoUrl": "https://lh3.googleusercontent.com/a-/AOh14GjND1a0im4IeEuS3SopzHZ1h-8SwgakusMPPMDolw=s64",
      "userId": "11141977249155520045"
     },
     "user_tz": -180
    },
    "id": "sHbVxMY0iC6I",
    "outputId": "da1d310e-00b9-415f-dcf4-b5a05e928e20"
   },
   "outputs": [
    {
     "name": "stdout",
     "output_type": "stream",
     "text": [
      "buy hold sell %\n",
      "[ 60627 377448  60800]\n",
      "[0.12152744 0.75659835 0.12187422]\n",
      "time: 23.9 ms (started: 2021-06-05 17:27:46 +00:00)\n"
     ]
    }
   ],
   "source": [
    "a,b = np.unique(Y, return_counts=True)\n",
    "print(\"buy hold sell %\")\n",
    "print(b)\n",
    "print(b / sum(b))"
   ]
  },
  {
   "cell_type": "code",
   "execution_count": 38,
   "metadata": {
    "colab": {
     "base_uri": "https://localhost:8080/"
    },
    "executionInfo": {
     "elapsed": 9,
     "status": "ok",
     "timestamp": 1622914066800,
     "user": {
      "displayName": "Andrei Moldovan",
      "photoUrl": "https://lh3.googleusercontent.com/a-/AOh14GjND1a0im4IeEuS3SopzHZ1h-8SwgakusMPPMDolw=s64",
      "userId": "11141977249155520045"
     },
     "user_tz": -180
    },
    "id": "-kiBO09x0dov",
    "outputId": "bb9a9c74-6cf2-4633-f424-78a6a2149d72"
   },
   "outputs": [
    {
     "name": "stdout",
     "output_type": "stream",
     "text": [
      "time: 7.33 ms (started: 2021-06-05 17:27:46 +00:00)\n"
     ]
    }
   ],
   "source": [
    "def get_subsample_same_distribution(X,Y, p=0.1):\n",
    "    ys = pd.Series(Y)\n",
    "    vs = ys.value_counts()\n",
    "    original_indexes = []\n",
    "    for idx in vs.index:\n",
    "        required = int(p * vs[idx])\n",
    "        print(required)\n",
    "        original_indexes.extend(ys[ys==idx].sample(n=required, replace=False).index)\n",
    "    return X[original_indexes], Y[original_indexes]"
   ]
  },
  {
   "cell_type": "code",
   "execution_count": 39,
   "metadata": {
    "colab": {
     "base_uri": "https://localhost:8080/"
    },
    "executionInfo": {
     "elapsed": 7,
     "status": "ok",
     "timestamp": 1622914066800,
     "user": {
      "displayName": "Andrei Moldovan",
      "photoUrl": "https://lh3.googleusercontent.com/a-/AOh14GjND1a0im4IeEuS3SopzHZ1h-8SwgakusMPPMDolw=s64",
      "userId": "11141977249155520045"
     },
     "user_tz": -180
    },
    "id": "QxenlyrR0eeN",
    "outputId": "a5d9d415-3712-4a5e-ff80-18ed2e05603e"
   },
   "outputs": [
    {
     "data": {
      "text/plain": [
       "((498875, 135), (498875,))"
      ]
     },
     "execution_count": 39,
     "metadata": {
      "tags": []
     },
     "output_type": "execute_result"
    },
    {
     "name": "stdout",
     "output_type": "stream",
     "text": [
      "time: 4.69 ms (started: 2021-06-05 17:27:46 +00:00)\n"
     ]
    }
   ],
   "source": [
    "# X,Y = get_subsample_same_distribution(X,Y)\n",
    "X.shape, Y.shape"
   ]
  },
  {
   "cell_type": "code",
   "execution_count": 40,
   "metadata": {
    "colab": {
     "base_uri": "https://localhost:8080/"
    },
    "executionInfo": {
     "elapsed": 169674,
     "status": "ok",
     "timestamp": 1622914236470,
     "user": {
      "displayName": "Andrei Moldovan",
      "photoUrl": "https://lh3.googleusercontent.com/a-/AOh14GjND1a0im4IeEuS3SopzHZ1h-8SwgakusMPPMDolw=s64",
      "userId": "11141977249155520045"
     },
     "user_tz": -180
    },
    "id": "ZefbHr3MD4zK",
    "outputId": "15f1693c-8b8c-4be1-baa2-c8a31a9e1c17"
   },
   "outputs": [
    {
     "data": {
      "text/plain": [
       "DecisionTreeClassifier(ccp_alpha=0.0, class_weight='balanced', criterion='gini',\n",
       "                       max_depth=20, max_features=None, max_leaf_nodes=None,\n",
       "                       min_impurity_decrease=0.0, min_impurity_split=None,\n",
       "                       min_samples_leaf=1, min_samples_split=2,\n",
       "                       min_weight_fraction_leaf=0.0, presort='deprecated',\n",
       "                       random_state=None, splitter='best')"
      ]
     },
     "execution_count": 40,
     "metadata": {
      "tags": []
     },
     "output_type": "execute_result"
    },
    {
     "name": "stdout",
     "output_type": "stream",
     "text": [
      "time: 2min 49s (started: 2021-06-05 17:27:47 +00:00)\n"
     ]
    }
   ],
   "source": [
    "max_depth = 20\n",
    "clf = DecisionTreeClassifier(max_depth=max_depth, class_weight=\"balanced\")\n",
    "clf.fit(X, Y)"
   ]
  },
  {
   "cell_type": "code",
   "execution_count": 41,
   "metadata": {
    "colab": {
     "base_uri": "https://localhost:8080/",
     "height": 686
    },
    "executionInfo": {
     "elapsed": 217,
     "status": "ok",
     "timestamp": 1622914250291,
     "user": {
      "displayName": "Andrei Moldovan",
      "photoUrl": "https://lh3.googleusercontent.com/a-/AOh14GjND1a0im4IeEuS3SopzHZ1h-8SwgakusMPPMDolw=s64",
      "userId": "11141977249155520045"
     },
     "user_tz": -180
    },
    "id": "q1qoXhkb50aw",
    "outputId": "b6be878f-d192-486f-9b7f-7d060b84f8a8"
   },
   "outputs": [
    {
     "data": {
      "text/html": [
       "<div>\n",
       "<style scoped>\n",
       "    .dataframe tbody tr th:only-of-type {\n",
       "        vertical-align: middle;\n",
       "    }\n",
       "\n",
       "    .dataframe tbody tr th {\n",
       "        vertical-align: top;\n",
       "    }\n",
       "\n",
       "    .dataframe thead th {\n",
       "        text-align: right;\n",
       "    }\n",
       "</style>\n",
       "<table border=\"1\" class=\"dataframe\">\n",
       "  <thead>\n",
       "    <tr style=\"text-align: right;\">\n",
       "      <th></th>\n",
       "      <th>feature</th>\n",
       "      <th>importance</th>\n",
       "    </tr>\n",
       "  </thead>\n",
       "  <tbody>\n",
       "    <tr>\n",
       "      <th>130</th>\n",
       "      <td>BBB_5_2.0___4</td>\n",
       "      <td>0.112526</td>\n",
       "    </tr>\n",
       "    <tr>\n",
       "      <th>22</th>\n",
       "      <td>BBB_5_2.0___0</td>\n",
       "      <td>0.034635</td>\n",
       "    </tr>\n",
       "    <tr>\n",
       "      <th>124</th>\n",
       "      <td>ATRr_14___4</td>\n",
       "      <td>0.033782</td>\n",
       "    </tr>\n",
       "    <tr>\n",
       "      <th>120</th>\n",
       "      <td>ROC_1___4</td>\n",
       "      <td>0.033663</td>\n",
       "    </tr>\n",
       "    <tr>\n",
       "      <th>112</th>\n",
       "      <td>ema5_diff___4</td>\n",
       "      <td>0.025806</td>\n",
       "    </tr>\n",
       "    <tr>\n",
       "      <th>125</th>\n",
       "      <td>WILLR_14___4</td>\n",
       "      <td>0.021290</td>\n",
       "    </tr>\n",
       "    <tr>\n",
       "      <th>16</th>\n",
       "      <td>ATRr_14___0</td>\n",
       "      <td>0.020445</td>\n",
       "    </tr>\n",
       "    <tr>\n",
       "      <th>123</th>\n",
       "      <td>CCI_14_0.015___4</td>\n",
       "      <td>0.013319</td>\n",
       "    </tr>\n",
       "    <tr>\n",
       "      <th>134</th>\n",
       "      <td>RVI_14___4</td>\n",
       "      <td>0.012511</td>\n",
       "    </tr>\n",
       "    <tr>\n",
       "      <th>132</th>\n",
       "      <td>BBL_5_2.0_diff___4</td>\n",
       "      <td>0.012047</td>\n",
       "    </tr>\n",
       "    <tr>\n",
       "      <th>12</th>\n",
       "      <td>ROC_1___0</td>\n",
       "      <td>0.011155</td>\n",
       "    </tr>\n",
       "    <tr>\n",
       "      <th>23</th>\n",
       "      <td>BBU_5_2.0_diff___0</td>\n",
       "      <td>0.011147</td>\n",
       "    </tr>\n",
       "    <tr>\n",
       "      <th>49</th>\n",
       "      <td>BBB_5_2.0___1</td>\n",
       "      <td>0.011032</td>\n",
       "    </tr>\n",
       "    <tr>\n",
       "      <th>131</th>\n",
       "      <td>BBU_5_2.0_diff___4</td>\n",
       "      <td>0.009776</td>\n",
       "    </tr>\n",
       "    <tr>\n",
       "      <th>107</th>\n",
       "      <td>RVI_14___3</td>\n",
       "      <td>0.009775</td>\n",
       "    </tr>\n",
       "    <tr>\n",
       "      <th>98</th>\n",
       "      <td>WILLR_14___3</td>\n",
       "      <td>0.009720</td>\n",
       "    </tr>\n",
       "    <tr>\n",
       "      <th>26</th>\n",
       "      <td>RVI_14___0</td>\n",
       "      <td>0.009684</td>\n",
       "    </tr>\n",
       "    <tr>\n",
       "      <th>96</th>\n",
       "      <td>CCI_14_0.015___3</td>\n",
       "      <td>0.009381</td>\n",
       "    </tr>\n",
       "    <tr>\n",
       "      <th>66</th>\n",
       "      <td>ROC_1___2</td>\n",
       "      <td>0.009228</td>\n",
       "    </tr>\n",
       "    <tr>\n",
       "      <th>15</th>\n",
       "      <td>CCI_14_0.015___0</td>\n",
       "      <td>0.009155</td>\n",
       "    </tr>\n",
       "  </tbody>\n",
       "</table>\n",
       "</div>"
      ],
      "text/plain": [
       "                feature  importance\n",
       "130       BBB_5_2.0___4    0.112526\n",
       "22        BBB_5_2.0___0    0.034635\n",
       "124         ATRr_14___4    0.033782\n",
       "120           ROC_1___4    0.033663\n",
       "112       ema5_diff___4    0.025806\n",
       "125        WILLR_14___4    0.021290\n",
       "16          ATRr_14___0    0.020445\n",
       "123    CCI_14_0.015___4    0.013319\n",
       "134          RVI_14___4    0.012511\n",
       "132  BBL_5_2.0_diff___4    0.012047\n",
       "12            ROC_1___0    0.011155\n",
       "23   BBU_5_2.0_diff___0    0.011147\n",
       "49        BBB_5_2.0___1    0.011032\n",
       "131  BBU_5_2.0_diff___4    0.009776\n",
       "107          RVI_14___3    0.009775\n",
       "98         WILLR_14___3    0.009720\n",
       "26           RVI_14___0    0.009684\n",
       "96     CCI_14_0.015___3    0.009381\n",
       "66            ROC_1___2    0.009228\n",
       "15     CCI_14_0.015___0    0.009155"
      ]
     },
     "execution_count": 41,
     "metadata": {
      "tags": []
     },
     "output_type": "execute_result"
    },
    {
     "name": "stdout",
     "output_type": "stream",
     "text": [
      "time: 24.1 ms (started: 2021-06-05 17:30:50 +00:00)\n"
     ]
    }
   ],
   "source": [
    "d = {\"feature\":columns, \"importance\": clf.feature_importances_}\n",
    "pd.DataFrame(d).sort_values(\"importance\", ascending=False).head(20)"
   ]
  },
  {
   "cell_type": "code",
   "execution_count": 42,
   "metadata": {
    "colab": {
     "base_uri": "https://localhost:8080/"
    },
    "executionInfo": {
     "elapsed": 898,
     "status": "ok",
     "timestamp": 1622914260836,
     "user": {
      "displayName": "Andrei Moldovan",
      "photoUrl": "https://lh3.googleusercontent.com/a-/AOh14GjND1a0im4IeEuS3SopzHZ1h-8SwgakusMPPMDolw=s64",
      "userId": "11141977249155520045"
     },
     "user_tz": -180
    },
    "id": "GYB4Hz9dD-i7",
    "outputId": "77e75910-c6a1-486d-d8e5-f372e9e8ae7b"
   },
   "outputs": [
    {
     "name": "stdout",
     "output_type": "stream",
     "text": [
      "0.7945457278877475\n",
      "[[0.00000e+00 6.06270e+04]\n",
      " [1.00000e+00 3.77448e+05]\n",
      " [2.00000e+00 6.08000e+04]]\n",
      "buy hold sell %\n",
      "[0.12152744 0.75659835 0.12187422]\n",
      "[[0.00000e+00 9.90220e+04]\n",
      " [1.00000e+00 2.98331e+05]\n",
      " [2.00000e+00 1.01522e+05]]\n",
      "buy hold sell %\n",
      "[0.1984906  0.59800752 0.20350188]\n",
      "time: 704 ms (started: 2021-06-05 17:31:00 +00:00)\n"
     ]
    }
   ],
   "source": [
    "print(clf.score(X, Y))\n",
    "Y_train_predicted = clf.predict(X)\n",
    "\n",
    "print(np.array(np.unique(Y, return_counts=True)).T)\n",
    "\n",
    "a,b = np.unique(Y, return_counts=True)\n",
    "print(\"buy hold sell %\")\n",
    "print(b / sum(b))\n",
    "\n",
    "print(np.array(np.unique(Y_train_predicted, return_counts=True)).T)\n",
    "\n",
    "a,b = np.unique(Y_train_predicted, return_counts=True)\n",
    "print(\"buy hold sell %\")\n",
    "print(b / sum(b))"
   ]
  },
  {
   "cell_type": "code",
   "execution_count": 43,
   "metadata": {
    "colab": {
     "base_uri": "https://localhost:8080/"
    },
    "executionInfo": {
     "elapsed": 2252,
     "status": "ok",
     "timestamp": 1622914271504,
     "user": {
      "displayName": "Andrei Moldovan",
      "photoUrl": "https://lh3.googleusercontent.com/a-/AOh14GjND1a0im4IeEuS3SopzHZ1h-8SwgakusMPPMDolw=s64",
      "userId": "11141977249155520045"
     },
     "user_tz": -180
    },
    "id": "LJzTz7Mwbhd1",
    "outputId": "2513ddf7-19b8-4e4a-85de-68930f6c3bc8"
   },
   "outputs": [
    {
     "name": "stdout",
     "output_type": "stream",
     "text": [
      "[[ 52874   4024   3729]\n",
      " [ 42534 290313  44601]\n",
      " [  3614   3994  53192]]\n",
      "              precision    recall  f1-score   support\n",
      "\n",
      "         0.0      0.534     0.872     0.662     60627\n",
      "         1.0      0.973     0.769     0.859    377448\n",
      "         2.0      0.524     0.875     0.655     60800\n",
      "\n",
      "    accuracy                          0.795    498875\n",
      "   macro avg      0.677     0.839     0.726    498875\n",
      "weighted avg      0.865     0.795     0.810    498875\n",
      "\n",
      "time: 2.02 s (started: 2021-06-05 17:31:09 +00:00)\n"
     ]
    }
   ],
   "source": [
    "Y_train_predicted = clf.predict(X)\n",
    "print(metrics.confusion_matrix(Y, Y_train_predicted))\n",
    "\n",
    "# Print the precision and recall, among other metrics\n",
    "print(metrics.classification_report(Y, Y_train_predicted, digits=3))"
   ]
  },
  {
   "cell_type": "code",
   "execution_count": 44,
   "metadata": {
    "colab": {
     "base_uri": "https://localhost:8080/"
    },
    "executionInfo": {
     "elapsed": 300,
     "status": "ok",
     "timestamp": 1622914280581,
     "user": {
      "displayName": "Andrei Moldovan",
      "photoUrl": "https://lh3.googleusercontent.com/a-/AOh14GjND1a0im4IeEuS3SopzHZ1h-8SwgakusMPPMDolw=s64",
      "userId": "11141977249155520045"
     },
     "user_tz": -180
    },
    "id": "8TkCizCaLvEf",
    "outputId": "0d6b2d0c-6db5-4e85-9285-059abac2a032"
   },
   "outputs": [
    {
     "name": "stdout",
     "output_type": "stream",
     "text": [
      "time: 72.6 ms (started: 2021-06-05 17:31:20 +00:00)\n"
     ]
    }
   ],
   "source": [
    "clf_file = \"/drive/My Drive/disertation/decision_tree_rocs_{}_balanced_at_train_unscaled_depth_{}.pickle\".format(rocs, max_depth)\n",
    "if clf:\n",
    "    pickle.dump(clf, open(clf_file, 'wb'))\n",
    "else:\n",
    "    clf = pickle.load(open(clf_file, \"rb\"))"
   ]
  },
  {
   "cell_type": "code",
   "execution_count": null,
   "metadata": {
    "colab": {
     "base_uri": "https://localhost:8080/"
    },
    "executionInfo": {
     "elapsed": 617,
     "status": "ok",
     "timestamp": 1622914282727,
     "user": {
      "displayName": "Andrei Moldovan",
      "photoUrl": "https://lh3.googleusercontent.com/a-/AOh14GjND1a0im4IeEuS3SopzHZ1h-8SwgakusMPPMDolw=s64",
      "userId": "11141977249155520045"
     },
     "user_tz": -180
    },
    "id": "BnkG_51jD5OB",
    "outputId": "8a34c7a0-5e63-4200-dfc5-504bac559dcc"
   },
   "outputs": [],
   "source": [
    "from sklearn import tree\n",
    "text_representation = tree.export_text(clf, feature_names=columns)\n",
    "print(text_representation)"
   ]
  },
  {
   "cell_type": "code",
   "execution_count": 52,
   "metadata": {
    "colab": {
     "base_uri": "https://localhost:8080/"
    },
    "executionInfo": {
     "elapsed": 79046,
     "status": "ok",
     "timestamp": 1622914606909,
     "user": {
      "displayName": "Andrei Moldovan",
      "photoUrl": "https://lh3.googleusercontent.com/a-/AOh14GjND1a0im4IeEuS3SopzHZ1h-8SwgakusMPPMDolw=s64",
      "userId": "11141977249155520045"
     },
     "user_tz": -180
    },
    "id": "RdRfWpiuYqPU",
    "outputId": "339101f7-0c4a-48c7-cd94-e39c04b9bfa9"
   },
   "outputs": [
    {
     "name": "stdout",
     "output_type": "stream",
     "text": [
      "time: 46.6 s (started: 2021-06-05 17:35:28 +00:00)\n"
     ]
    }
   ],
   "source": [
    "tune_df = pd.read_csv(\"/drive/My Drive/disertation/tune_df_{}_rocs_{}.csv\".format(threshold,rocs))\n",
    "tune_df = tune_df.set_index(\"open_time\")\n",
    "\n",
    "tune_df.drop(columns=\"close\",inplace=True)\n",
    "\n",
    "data = tune_df.to_numpy()\n",
    "X_tune = data[:,:-1]\n",
    "Y_tune = data[:,-1]\n",
    "\n",
    "X_tune, Y_tune = extend_dataset_with_window_length(X_tune, Y_tune)"
   ]
  },
  {
   "cell_type": "code",
   "execution_count": 53,
   "metadata": {
    "colab": {
     "base_uri": "https://localhost:8080/"
    },
    "executionInfo": {
     "elapsed": 2387,
     "status": "ok",
     "timestamp": 1622914649132,
     "user": {
      "displayName": "Andrei Moldovan",
      "photoUrl": "https://lh3.googleusercontent.com/a-/AOh14GjND1a0im4IeEuS3SopzHZ1h-8SwgakusMPPMDolw=s64",
      "userId": "11141977249155520045"
     },
     "user_tz": -180
    },
    "id": "AJ6URXgyZO8Z",
    "outputId": "651615bd-4ae5-4767-ffb1-9d1e99777091"
   },
   "outputs": [
    {
     "name": "stdout",
     "output_type": "stream",
     "text": [
      "time: 2.09 s (started: 2021-06-05 17:37:27 +00:00)\n"
     ]
    }
   ],
   "source": [
    "X_tune = scaler.transform(X_tune)"
   ]
  },
  {
   "cell_type": "code",
   "execution_count": 54,
   "metadata": {
    "colab": {
     "base_uri": "https://localhost:8080/"
    },
    "executionInfo": {
     "elapsed": 4159,
     "status": "ok",
     "timestamp": 1622914655273,
     "user": {
      "displayName": "Andrei Moldovan",
      "photoUrl": "https://lh3.googleusercontent.com/a-/AOh14GjND1a0im4IeEuS3SopzHZ1h-8SwgakusMPPMDolw=s64",
      "userId": "11141977249155520045"
     },
     "user_tz": -180
    },
    "id": "ZBePbUIicdoC",
    "outputId": "fd20a07d-8249-4d23-b2bf-778b13b7b13d"
   },
   "outputs": [
    {
     "name": "stdout",
     "output_type": "stream",
     "text": [
      "buy hold sell %\n",
      "[0.03926218 0.9223085  0.03842931]\n",
      "[[  8901  21292   8981]\n",
      " [ 46476 820101  53660]\n",
      " [  8160  20953   9230]]\n",
      "              precision    recall  f1-score   support\n",
      "\n",
      "         0.0      0.140     0.227     0.173     39174\n",
      "         1.0      0.951     0.891     0.920    920237\n",
      "         2.0      0.128     0.241     0.167     38343\n",
      "\n",
      "    accuracy                          0.840    997754\n",
      "   macro avg      0.407     0.453     0.420    997754\n",
      "weighted avg      0.888     0.840     0.862    997754\n",
      "\n",
      "time: 3.82 s (started: 2021-06-05 17:37:31 +00:00)\n"
     ]
    }
   ],
   "source": [
    "a,b = np.unique(Y_tune, return_counts=True)\n",
    "print(\"buy hold sell %\")\n",
    "print(b / sum(b))\n",
    "Y_tune_predicted = clf.predict(X_tune)\n",
    "print(metrics.confusion_matrix(Y_tune, Y_tune_predicted))\n",
    "\n",
    "print(metrics.classification_report(Y_tune, Y_tune_predicted, digits=3))\n"
   ]
  },
  {
   "cell_type": "code",
   "execution_count": 55,
   "metadata": {
    "colab": {
     "base_uri": "https://localhost:8080/"
    },
    "executionInfo": {
     "elapsed": 219,
     "status": "ok",
     "timestamp": 1622914707954,
     "user": {
      "displayName": "Andrei Moldovan",
      "photoUrl": "https://lh3.googleusercontent.com/a-/AOh14GjND1a0im4IeEuS3SopzHZ1h-8SwgakusMPPMDolw=s64",
      "userId": "11141977249155520045"
     },
     "user_tz": -180
    },
    "id": "njDeZ94zRBer",
    "outputId": "e398125b-c42d-4ecf-816b-a1889edb7ec2"
   },
   "outputs": [
    {
     "name": "stdout",
     "output_type": "stream",
     "text": [
      "time: 39.3 ms (started: 2021-06-05 17:38:28 +00:00)\n"
     ]
    }
   ],
   "source": [
    "# clear ram\n",
    "del tune_df\n",
    "del X_tune\n",
    "del Y_tune"
   ]
  },
  {
   "cell_type": "code",
   "execution_count": 56,
   "metadata": {
    "colab": {
     "base_uri": "https://localhost:8080/"
    },
    "executionInfo": {
     "elapsed": 35232,
     "status": "ok",
     "timestamp": 1622914761613,
     "user": {
      "displayName": "Andrei Moldovan",
      "photoUrl": "https://lh3.googleusercontent.com/a-/AOh14GjND1a0im4IeEuS3SopzHZ1h-8SwgakusMPPMDolw=s64",
      "userId": "11141977249155520045"
     },
     "user_tz": -180
    },
    "id": "V4SiVoa1Zr-6",
    "outputId": "636e2c81-e520-4da1-b04f-228609c3be30"
   },
   "outputs": [
    {
     "name": "stdout",
     "output_type": "stream",
     "text": [
      "time: 35 s (started: 2021-06-05 17:38:46 +00:00)\n"
     ]
    }
   ],
   "source": [
    "test_df = pd.read_csv(\"/drive/My Drive/disertation/test_df_{}_rocs_{}.csv\".format(threshold,rocs))\n",
    "test_df = test_df.set_index(\"open_time\")\n",
    "test_df.drop(columns=\"close\", inplace=True)\n",
    "\n",
    "data = test_df.to_numpy()\n",
    "X_test = data[:,:-1]\n",
    "Y_test = data[:,-1]\n",
    "\n",
    "X_test, Y_test = extend_dataset_with_window_length(X_test, Y_test)"
   ]
  },
  {
   "cell_type": "code",
   "execution_count": 57,
   "metadata": {
    "colab": {
     "base_uri": "https://localhost:8080/"
    },
    "executionInfo": {
     "elapsed": 362,
     "status": "ok",
     "timestamp": 1622914761963,
     "user": {
      "displayName": "Andrei Moldovan",
      "photoUrl": "https://lh3.googleusercontent.com/a-/AOh14GjND1a0im4IeEuS3SopzHZ1h-8SwgakusMPPMDolw=s64",
      "userId": "11141977249155520045"
     },
     "user_tz": -180
    },
    "id": "ASP_6_PeZxUS",
    "outputId": "d8bdf50d-3057-4ece-931c-747f496c3336"
   },
   "outputs": [
    {
     "name": "stdout",
     "output_type": "stream",
     "text": [
      "time: 379 ms (started: 2021-06-05 17:39:21 +00:00)\n"
     ]
    }
   ],
   "source": [
    "X_test = scaler.transform(X_test)"
   ]
  },
  {
   "cell_type": "code",
   "execution_count": 58,
   "metadata": {
    "colab": {
     "base_uri": "https://localhost:8080/"
    },
    "executionInfo": {
     "elapsed": 2096,
     "status": "ok",
     "timestamp": 1622914764058,
     "user": {
      "displayName": "Andrei Moldovan",
      "photoUrl": "https://lh3.googleusercontent.com/a-/AOh14GjND1a0im4IeEuS3SopzHZ1h-8SwgakusMPPMDolw=s64",
      "userId": "11141977249155520045"
     },
     "user_tz": -180
    },
    "id": "B8h1BmWKfajW",
    "outputId": "a9be006b-4c5d-4133-c5af-8bf9e0d77715"
   },
   "outputs": [
    {
     "name": "stdout",
     "output_type": "stream",
     "text": [
      "buy hold sell %\n",
      "[0.06405412 0.87312052 0.06282536]\n",
      "[[  9866  12465   9624]\n",
      " [ 62081 309650  63847]\n",
      " [  9588  12203   9551]]\n",
      "              precision    recall  f1-score   support\n",
      "\n",
      "         0.0      0.121     0.309     0.174     31955\n",
      "         1.0      0.926     0.711     0.804    435578\n",
      "         2.0      0.115     0.305     0.167     31342\n",
      "\n",
      "    accuracy                          0.660    498875\n",
      "   macro avg      0.387     0.441     0.382    498875\n",
      "weighted avg      0.824     0.660     0.724    498875\n",
      "\n",
      "time: 2.01 s (started: 2021-06-05 17:39:22 +00:00)\n"
     ]
    }
   ],
   "source": [
    "a,b = np.unique(Y_test, return_counts=True)\n",
    "print(\"buy hold sell %\")\n",
    "print(b / sum(b))\n",
    "Y_test_predicted = clf.predict(X_test)\n",
    "print(metrics.confusion_matrix(Y_test, Y_test_predicted))\n",
    "\n",
    "print(metrics.classification_report(Y_test, Y_test_predicted, digits=3))"
   ]
  },
  {
   "cell_type": "code",
   "execution_count": null,
   "metadata": {
    "id": "6bNV8Ur3o6Ud"
   },
   "outputs": [],
   "source": []
  }
 ],
 "metadata": {
  "colab": {
   "authorship_tag": "ABX9TyPEbBdqF0hc/pUW2+DLr+Oi",
   "name": "Decision_tree.ipynb",
   "provenance": []
  },
  "kernelspec": {
   "display_name": "Python 3",
   "language": "python",
   "name": "python3"
  },
  "language_info": {
   "codemirror_mode": {
    "name": "ipython",
    "version": 3
   },
   "file_extension": ".py",
   "mimetype": "text/x-python",
   "name": "python",
   "nbconvert_exporter": "python",
   "pygments_lexer": "ipython3",
   "version": "3.7.3"
  }
 },
 "nbformat": 4,
 "nbformat_minor": 4
}
